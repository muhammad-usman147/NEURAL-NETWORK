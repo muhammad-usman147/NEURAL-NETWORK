{
  "nbformat": 4,
  "nbformat_minor": 0,
  "metadata": {
    "colab": {
      "name": "1st ARTIFICIAL NEURAL NETWORK ",
      "version": "0.3.2",
      "provenance": []
    },
    "kernelspec": {
      "name": "python3",
      "display_name": "Python 3"
    }
  },
  "cells": [
    {
      "cell_type": "code",
      "metadata": {
        "id": "0Na62bekHiNc",
        "colab_type": "code",
        "colab": {}
      },
      "source": [
        "import numpy"
      ],
      "execution_count": 0,
      "outputs": []
    },
    {
      "cell_type": "code",
      "metadata": {
        "id": "XBJKWbEuHpCB",
        "colab_type": "code",
        "colab": {}
      },
      "source": [
        "from keras.datasets import mnist #loading the mnist dataset, of text images"
      ],
      "execution_count": 0,
      "outputs": []
    },
    {
      "cell_type": "code",
      "metadata": {
        "id": "fK5FBBCpHsNY",
        "colab_type": "code",
        "colab": {}
      },
      "source": [
        "(train_images,train_labels),(test_images,test_labels)=mnist.load_data()"
      ],
      "execution_count": 0,
      "outputs": []
    },
    {
      "cell_type": "code",
      "metadata": {
        "id": "2xVhKUa9I0H3",
        "colab_type": "code",
        "colab": {
          "base_uri": "https://localhost:8080/",
          "height": 34
        },
        "outputId": "74a763ff-2bd0-48ec-9c29-01ae946fe529"
      },
      "source": [
        "test_images.ndim"
      ],
      "execution_count": 54,
      "outputs": [
        {
          "output_type": "execute_result",
          "data": {
            "text/plain": [
              "3"
            ]
          },
          "metadata": {
            "tags": []
          },
          "execution_count": 54
        }
      ]
    },
    {
      "cell_type": "code",
      "metadata": {
        "id": "rRN_Ie8ZLNQw",
        "colab_type": "code",
        "colab": {
          "base_uri": "https://localhost:8080/",
          "height": 34
        },
        "outputId": "30a3ca40-24c1-4964-ab5e-b622129bf61b"
      },
      "source": [
        "train_images.dtype"
      ],
      "execution_count": 55,
      "outputs": [
        {
          "output_type": "execute_result",
          "data": {
            "text/plain": [
              "dtype('uint8')"
            ]
          },
          "metadata": {
            "tags": []
          },
          "execution_count": 55
        }
      ]
    },
    {
      "cell_type": "code",
      "metadata": {
        "id": "iUkMJoWtYkUm",
        "colab_type": "code",
        "colab": {}
      },
      "source": [
        ""
      ],
      "execution_count": 0,
      "outputs": []
    },
    {
      "cell_type": "markdown",
      "metadata": {
        "id": "n6G6eHeFYssa",
        "colab_type": "text"
      },
      "source": [
        "So, it is a 3d tensor having 60,000 images with 28x28 resolution. It's a greyscale image, with coeffieiect betweem 0 to 255"
      ]
    },
    {
      "cell_type": "code",
      "metadata": {
        "id": "98YWLv0kY--Q",
        "colab_type": "code",
        "colab": {}
      },
      "source": [
        "#to display any image from this tensor\n",
        "import matplotlib.pyplot as plt\n",
        "digit=train_images[5]"
      ],
      "execution_count": 0,
      "outputs": []
    },
    {
      "cell_type": "code",
      "metadata": {
        "id": "hGuhE9BSZQJy",
        "colab_type": "code",
        "colab": {
          "base_uri": "https://localhost:8080/",
          "height": 286
        },
        "outputId": "05841294-fcb3-4896-db19-c8146cdbc849"
      },
      "source": [
        "plt.imshow(digit,cmap=plt.cm.binary)\n",
        "#converting into greyscale using plt.cm.binary"
      ],
      "execution_count": 57,
      "outputs": [
        {
          "output_type": "execute_result",
          "data": {
            "text/plain": [
              "<matplotlib.image.AxesImage at 0x7f7908239c50>"
            ]
          },
          "metadata": {
            "tags": []
          },
          "execution_count": 57
        },
        {
          "output_type": "display_data",
          "data": {
            "image/png": "[encoded data removed]",
            "text/plain": [
              "<Figure size 432x288 with 1 Axes>"
            ]
          },
          "metadata": {
            "tags": []
          }
        }
      ]
    },
    {
      "cell_type": "code",
      "metadata": {
        "id": "Lo6CHbFaZXRw",
        "colab_type": "code",
        "colab": {
          "base_uri": "https://localhost:8080/",
          "height": 286
        },
        "outputId": "e7dbe53e-b288-4e19-9fd9-464811018ee2"
      },
      "source": [
        "plt.imshow(train_images[89]) #without greyscale image"
      ],
      "execution_count": 58,
      "outputs": [
        {
          "output_type": "execute_result",
          "data": {
            "text/plain": [
              "<matplotlib.image.AxesImage at 0x7f7907c94550>"
            ]
          },
          "metadata": {
            "tags": []
          },
          "execution_count": 58
        },
        {
          "output_type": "display_data",
          "data": {
            "image/png": "[encoded data removed]",
            "text/plain": [
              "<Figure size 432x288 with 1 Axes>"
            ]
          },
          "metadata": {
            "tags": []
          }
        }
      ]
    },
    {
      "cell_type": "code",
      "metadata": {
        "id": "NVbXZOVSZr7A",
        "colab_type": "code",
        "colab": {}
      },
      "source": [
        "from keras import models\n",
        "from keras import layers\n",
        "#Creating our neural network"
      ],
      "execution_count": 0,
      "outputs": []
    },
    {
      "cell_type": "code",
      "metadata": {
        "id": "62wnzC_aaPd0",
        "colab_type": "code",
        "colab": {}
      },
      "source": [
        "#building the model\n",
        "network=models.Sequential()\n",
        "# A Sqequential API allows you to create models layer by layer\n",
        "network.add(layers.Dense(512,activation='relu',input_shape=(28*28,)))\n",
        "network.add(layers.Dense(10,activation='softmax'))"
      ],
      "execution_count": 0,
      "outputs": []
    },
    {
      "cell_type": "code",
      "metadata": {
        "id": "pWWLMTULarLH",
        "colab_type": "code",
        "colab": {}
      },
      "source": [
        "network.compile(optimizer='rmsprop',loss='categorical_crossentropy',metrics=['accuracy'])\n",
        "#rnsprop is a gradient based opitimation technique to deal with the problem\n",
        "#categorical_crossentropy is a technique used to calculate the loss of the network\n",
        "#it is used when you have single label\n",
        "#metric is use to judge the performance of the model\n",
        "train_images=train_images.reshape((60000,28*28))\n",
        "train_images=train_images.astype('float32')/255\n",
        "test_images=test_images.reshape((10000,28*28))\n",
        "test_images=test_images.astype('float32')/255"
      ],
      "execution_count": 0,
      "outputs": []
    },
    {
      "cell_type": "code",
      "metadata": {
        "id": "vd4f6BN2cVBZ",
        "colab_type": "code",
        "colab": {}
      },
      "source": [
        "#@title Default title text\n",
        "from keras.utils import to_categorical\n",
        "#converts class vectors(intergers) to binary class matrix"
      ],
      "execution_count": 0,
      "outputs": []
    },
    {
      "cell_type": "code",
      "metadata": {
        "id": "QinomBQdiRay",
        "colab_type": "code",
        "colab": {}
      },
      "source": [
        "#example of TO_CATEGORICAL\n",
        "# Consider an array of 5 labels out of a set of 3 classes {0, 1, 2}:\n",
        "# > labels\n",
        "# array([0, 2, 1, 2, 0])\n",
        "# `to_categorical` converts this into a matrix with as many\n",
        "# columns as there are classes. The number of rows\n",
        "# stays the same.\n",
        "# > to_categorical(labels)\n",
        "# array([[ 1.,  0.,  0.],\n",
        "   #     [ 0.,  0.,  1.],\n",
        "   #     [ 0.,  1.,  0.],\n",
        "    #    [ 0.,  0.,  1.],\n",
        "     #   [ 1.,  0.,  0.]], dtype=float32)"
      ],
      "execution_count": 0,
      "outputs": []
    },
    {
      "cell_type": "code",
      "metadata": {
        "id": "bsIFWqJCclZC",
        "colab_type": "code",
        "colab": {}
      },
      "source": [
        "train_labels=to_categorical(train_labels)\n",
        "test_labels=to_categorical(test_labels)"
      ],
      "execution_count": 0,
      "outputs": []
    },
    {
      "cell_type": "code",
      "metadata": {
        "id": "1xAgWmQ9ctl8",
        "colab_type": "code",
        "colab": {
          "base_uri": "https://localhost:8080/",
          "height": 208
        },
        "outputId": "f0a70a8d-4ccf-4e03-89a1-ee006508921b"
      },
      "source": [
        "#now it is time to train the network\n",
        "#fitting the model to it's training data\n",
        "network.fit(train_images,train_labels,epochs=5,batch_size=128)\n",
        "#epochs means how many times you want to run your network"
      ],
      "execution_count": 64,
      "outputs": [
        {
          "output_type": "stream",
          "text": [
            "Epoch 1/5\n",
            "60000/60000 [==============================] - 5s 76us/step - loss: 0.2548 - acc: 0.9268\n",
            "Epoch 2/5\n",
            "60000/60000 [==============================] - 4s 73us/step - loss: 0.1032 - acc: 0.9697\n",
            "Epoch 3/5\n",
            "60000/60000 [==============================] - 4s 72us/step - loss: 0.0689 - acc: 0.9793\n",
            "Epoch 4/5\n",
            "60000/60000 [==============================] - 4s 73us/step - loss: 0.0501 - acc: 0.9851\n",
            "Epoch 5/5\n",
            "60000/60000 [==============================] - 4s 72us/step - loss: 0.0369 - acc: 0.9885\n"
          ],
          "name": "stdout"
        },
        {
          "output_type": "execute_result",
          "data": {
            "text/plain": [
              "<keras.callbacks.History at 0x7f7907c94b38>"
            ]
          },
          "metadata": {
            "tags": []
          },
          "execution_count": 64
        }
      ]
    },
    {
      "cell_type": "code",
      "metadata": {
        "id": "uHnNIre0dBy_",
        "colab_type": "code",
        "colab": {
          "base_uri": "https://localhost:8080/",
          "height": 34
        },
        "outputId": "6a14283f-756f-4b36-965a-e49613831443"
      },
      "source": [
        "#now time to test the model\n",
        "test_loss,test_acc=network.evaluate(test_images,test_labels)"
      ],
      "execution_count": 65,
      "outputs": [
        {
          "output_type": "stream",
          "text": [
            "10000/10000 [==============================] - 1s 51us/step\n"
          ],
          "name": "stdout"
        }
      ]
    },
    {
      "cell_type": "code",
      "metadata": {
        "id": "CV_V43oLePdf",
        "colab_type": "code",
        "colab": {
          "base_uri": "https://localhost:8080/",
          "height": 34
        },
        "outputId": "2781759b-3b0f-4f35-df5f-bd74138aab34"
      },
      "source": [
        "test_loss"
      ],
      "execution_count": 66,
      "outputs": [
        {
          "output_type": "execute_result",
          "data": {
            "text/plain": [
              "0.07007258786489255"
            ]
          },
          "metadata": {
            "tags": []
          },
          "execution_count": 66
        }
      ]
    },
    {
      "cell_type": "code",
      "metadata": {
        "id": "ihJiShane5GO",
        "colab_type": "code",
        "colab": {
          "base_uri": "https://localhost:8080/",
          "height": 34
        },
        "outputId": "5a6aa66a-3bd2-4365-da2e-1a4ae8258b28"
      },
      "source": [
        "test_acc"
      ],
      "execution_count": 67,
      "outputs": [
        {
          "output_type": "execute_result",
          "data": {
            "text/plain": [
              "0.9786"
            ]
          },
          "metadata": {
            "tags": []
          },
          "execution_count": 67
        }
      ]
    },
    {
      "cell_type": "code",
      "metadata": {
        "id": "na2Q-A08e6se",
        "colab_type": "code",
        "colab": {}
      },
      "source": [
        ""
      ],
      "execution_count": 0,
      "outputs": []
    }
  ]
}
