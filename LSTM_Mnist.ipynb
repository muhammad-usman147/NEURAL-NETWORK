{
  "nbformat": 4,
  "nbformat_minor": 0,
  "metadata": {
    "colab": {
      "name": "LSTM_Mnist.ipynb",
      "provenance": [],
      "collapsed_sections": []
    },
    "kernelspec": {
      "name": "python3",
      "display_name": "Python 3"
    }
  },
  "cells": [
    {
      "cell_type": "code",
      "metadata": {
        "id": "COGX4d3jAI6l",
        "colab_type": "code",
        "colab": {}
      },
      "source": [
        "import tensorflow as tf"
      ],
      "execution_count": 0,
      "outputs": []
    },
    {
      "cell_type": "code",
      "metadata": {
        "id": "Ig7-Gr_RAaOc",
        "colab_type": "code",
        "colab": {}
      },
      "source": [
        "from tensorflow.keras.models import Sequential"
      ],
      "execution_count": 0,
      "outputs": []
    },
    {
      "cell_type": "code",
      "metadata": {
        "id": "gkxwsfjgAiOy",
        "colab_type": "code",
        "colab": {}
      },
      "source": [
        "from tensorflow.keras.layers import Dense,Dropout,LSTM, CuDNNLSTM"
      ],
      "execution_count": 0,
      "outputs": []
    },
    {
      "cell_type": "code",
      "metadata": {
        "id": "A-GZ29noAppF",
        "colab_type": "code",
        "colab": {}
      },
      "source": [
        "from tensorflow.keras.datasets import mnist"
      ],
      "execution_count": 0,
      "outputs": []
    },
    {
      "cell_type": "code",
      "metadata": {
        "id": "bYXSCphPA6df",
        "colab_type": "code",
        "colab": {}
      },
      "source": [
        "(xtr,ytr),(xts,yts) = mnist.load_data()"
      ],
      "execution_count": 0,
      "outputs": []
    },
    {
      "cell_type": "code",
      "metadata": {
        "id": "wBxc389aBwuc",
        "colab_type": "code",
        "colab": {}
      },
      "source": [
        "xtr = xtr/255.0\n",
        "xts = xts/255.0"
      ],
      "execution_count": 0,
      "outputs": []
    },
    {
      "cell_type": "code",
      "metadata": {
        "id": "Qm9VO0fwB7jI",
        "colab_type": "code",
        "colab": {}
      },
      "source": [
        "def Model():\n",
        "  model = Sequential()\n",
        "  model.add(LSTM(64,activation='relu',input_shape=(xtr.shape[1:]),return_sequences=True))\n",
        "  model.add(Dropout(0.2))\n",
        "  model.add(LSTM(32,activation='relu',return_sequences=True))\n",
        "  model.add(LSTM(10,activation='relu'))\n",
        "  model.add(Dropout(0.2))\n",
        "  model.add(Dense(132,activation='relu'))\n",
        "  model.add(Dense(10,activation='softmax'))\n",
        "  #print(model.summary())\n",
        "  return model"
      ],
      "execution_count": 0,
      "outputs": []
    },
    {
      "cell_type": "code",
      "metadata": {
        "id": "_q-V9ojJCn6e",
        "colab_type": "code",
        "colab": {}
      },
      "source": [
        "xmodel = Model()"
      ],
      "execution_count": 0,
      "outputs": []
    },
    {
      "cell_type": "code",
      "metadata": {
        "id": "ZRXCc6J0Cqij",
        "colab_type": "code",
        "colab": {
          "base_uri": "https://localhost:8080/",
          "height": 386
        },
        "outputId": "f6c27f67-e946-42fb-ab88-1979d491d6f7"
      },
      "source": [
        "xmodel.summary()"
      ],
      "execution_count": 63,
      "outputs": [
        {
          "output_type": "stream",
          "text": [
            "Model: \"sequential_13\"\n",
            "_________________________________________________________________\n",
            "Layer (type)                 Output Shape              Param #   \n",
            "=================================================================\n",
            "lstm_39 (LSTM)               (None, 28, 64)            23808     \n",
            "_________________________________________________________________\n",
            "dropout_26 (Dropout)         (None, 28, 64)            0         \n",
            "_________________________________________________________________\n",
            "lstm_40 (LSTM)               (None, 28, 32)            12416     \n",
            "_________________________________________________________________\n",
            "lstm_41 (LSTM)               (None, 10)                1720      \n",
            "_________________________________________________________________\n",
            "dropout_27 (Dropout)         (None, 10)                0         \n",
            "_________________________________________________________________\n",
            "dense_26 (Dense)             (None, 132)               1452      \n",
            "_________________________________________________________________\n",
            "dense_27 (Dense)             (None, 10)                1330      \n",
            "=================================================================\n",
            "Total params: 40,726\n",
            "Trainable params: 40,726\n",
            "Non-trainable params: 0\n",
            "_________________________________________________________________\n"
          ],
          "name": "stdout"
        }
      ]
    },
    {
      "cell_type": "code",
      "metadata": {
        "id": "uanw4WTsE1mB",
        "colab_type": "code",
        "colab": {}
      },
      "source": [
        "from tensorflow.keras.optimizers import Adam"
      ],
      "execution_count": 0,
      "outputs": []
    },
    {
      "cell_type": "code",
      "metadata": {
        "id": "kg99nCPEFcle",
        "colab_type": "code",
        "colab": {}
      },
      "source": [
        "opt = Adam(lr=1e-3, decay=1e-5)"
      ],
      "execution_count": 0,
      "outputs": []
    },
    {
      "cell_type": "code",
      "metadata": {
        "id": "7Y72PgjcGQiw",
        "colab_type": "code",
        "colab": {}
      },
      "source": [
        "xmodel.compile(optimizer=opt,loss='sparse_categorical_crossentropy',metrics=['acc'])"
      ],
      "execution_count": 0,
      "outputs": []
    },
    {
      "cell_type": "code",
      "metadata": {
        "id": "M9CVNUrLG185",
        "colab_type": "code",
        "colab": {
          "base_uri": "https://localhost:8080/",
          "height": 289
        },
        "outputId": "8bf5871e-c3a5-4e9c-8ebe-2d88a7603009"
      },
      "source": [
        "xmodel.fit(xtr,ytr,epochs=5,validation_data=(xts,yts))"
      ],
      "execution_count": 74,
      "outputs": [
        {
          "output_type": "stream",
          "text": [
            "WARNING:tensorflow:From /usr/local/lib/python3.6/dist-packages/tensorflow_core/python/ops/math_grad.py:1424: where (from tensorflow.python.ops.array_ops) is deprecated and will be removed in a future version.\n",
            "Instructions for updating:\n",
            "Use tf.where in 2.0, which has the same broadcast rule as np.where\n",
            "Train on 60000 samples, validate on 10000 samples\n",
            "Epoch 1/5\n",
            "60000/60000 [==============================] - 142s 2ms/sample - loss: 1.0145 - acc: 0.6455 - val_loss: 0.4189 - val_acc: 0.8757\n",
            "Epoch 2/5\n",
            "60000/60000 [==============================] - 141s 2ms/sample - loss: 0.4082 - acc: 0.8772 - val_loss: 0.2027 - val_acc: 0.9427\n",
            "Epoch 3/5\n",
            "60000/60000 [==============================] - 141s 2ms/sample - loss: 0.2862 - acc: 0.9193 - val_loss: 0.1525 - val_acc: 0.9565\n",
            "Epoch 4/5\n",
            "60000/60000 [==============================] - 141s 2ms/sample - loss: 0.2074 - acc: 0.9423 - val_loss: 0.1247 - val_acc: 0.9683\n",
            "Epoch 5/5\n",
            "60000/60000 [==============================] - 142s 2ms/sample - loss: 0.1700 - acc: 0.9517 - val_loss: 0.0964 - val_acc: 0.9753\n"
          ],
          "name": "stdout"
        },
        {
          "output_type": "execute_result",
          "data": {
            "text/plain": [
              "<tensorflow.python.keras.callbacks.History at 0x7f8c49b9d6d8>"
            ]
          },
          "metadata": {
            "tags": []
          },
          "execution_count": 74
        }
      ]
    },
    {
      "cell_type": "code",
      "metadata": {
        "id": "_0Vtyz_IHIUL",
        "colab_type": "code",
        "colab": {}
      },
      "source": [
        ""
      ],
      "execution_count": 0,
      "outputs": []
    }
  ]
}